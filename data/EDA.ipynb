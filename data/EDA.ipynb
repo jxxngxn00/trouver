{
 "cells": [
  {
   "cell_type": "code",
   "execution_count": 1,
   "metadata": {},
   "outputs": [],
   "source": [
    "import pandas as pd\n",
    "import numpy as np\n",
    "import os\n",
    "import seaborn as sns\n",
    "import matplotlib.pyplot as plt\n",
    "from tqdm import tqdm"
   ]
  },
  {
   "cell_type": "code",
   "execution_count": 10,
   "metadata": {},
   "outputs": [],
   "source": [
    "from sqlalchemy import create_engine\n",
    "\n",
    "# MySQL 데이터베이스 연결 정보\n",
    "user = 'root'\n",
    "password = '1234'\n",
    "host = 'localhost'\n",
    "database = 'trouver'\n",
    "\n",
    "# SQLAlchemy 엔진 생성\n",
    "engine = create_engine(f'mysql+mysqlconnector://{user}:{password}@{host}/{database}')"
   ]
  },
  {
   "cell_type": "code",
   "execution_count": 2,
   "metadata": {},
   "outputs": [],
   "source": [
    "import tensorflow as tf\n",
    "path = './dataset'"
   ]
  },
  {
   "cell_type": "markdown",
   "metadata": {},
   "source": [
    "# Dataset\n",
    "* rating.csv\n",
    "* travel.csv\n",
    "* users : 자체 DB 사용 예정 (MySQL)\n",
    "> 출처 : BC카드 제주 관광객 소비패턴 변화 분석, \n",
    "> visitJEJU 기반 데이터 수집"
   ]
  },
  {
   "cell_type": "code",
   "execution_count": 3,
   "metadata": {},
   "outputs": [
    {
     "data": {
      "text/plain": [
       "['rating.csv', 'travel.csv', 'visitjeju_data.xlsx']"
      ]
     },
     "execution_count": 3,
     "metadata": {},
     "output_type": "execute_result"
    }
   ],
   "source": [
    "os.listdir(path)"
   ]
  },
  {
   "cell_type": "code",
   "execution_count": 5,
   "metadata": {},
   "outputs": [
    {
     "data": {
      "text/html": [
       "<div>\n",
       "<style scoped>\n",
       "    .dataframe tbody tr th:only-of-type {\n",
       "        vertical-align: middle;\n",
       "    }\n",
       "\n",
       "    .dataframe tbody tr th {\n",
       "        vertical-align: top;\n",
       "    }\n",
       "\n",
       "    .dataframe thead th {\n",
       "        text-align: right;\n",
       "    }\n",
       "</style>\n",
       "<table border=\"1\" class=\"dataframe\">\n",
       "  <thead>\n",
       "    <tr style=\"text-align: right;\">\n",
       "      <th></th>\n",
       "      <th>placeid</th>\n",
       "      <th>contentsid</th>\n",
       "      <th>contentscd</th>\n",
       "      <th>title</th>\n",
       "      <th>regioncd_value</th>\n",
       "      <th>regioncd_label</th>\n",
       "      <th>region1cd_value</th>\n",
       "      <th>region1cd_label</th>\n",
       "      <th>region2cd_value</th>\n",
       "      <th>region2cd_label</th>\n",
       "      <th>tag</th>\n",
       "    </tr>\n",
       "  </thead>\n",
       "  <tbody>\n",
       "    <tr>\n",
       "      <th>0</th>\n",
       "      <td>1</td>\n",
       "      <td>CNTS_200000000015109</td>\n",
       "      <td>c2</td>\n",
       "      <td>숲을걷다</td>\n",
       "      <td>1</td>\n",
       "      <td>북부</td>\n",
       "      <td>region1</td>\n",
       "      <td>제주시</td>\n",
       "      <td>12</td>\n",
       "      <td>애월</td>\n",
       "      <td>애월, 소품샵, 감귤모자, 의류, 엽서, 잡화</td>\n",
       "    </tr>\n",
       "    <tr>\n",
       "      <th>1</th>\n",
       "      <td>2</td>\n",
       "      <td>CNTS_000000000021301</td>\n",
       "      <td>c2</td>\n",
       "      <td>아코하루</td>\n",
       "      <td>1</td>\n",
       "      <td>북부</td>\n",
       "      <td>region1</td>\n",
       "      <td>제주시</td>\n",
       "      <td>11</td>\n",
       "      <td>제주시내</td>\n",
       "      <td>쇼핑,공방,기념품,공용주차장,현금결제,카드결제,무료 WIFI,편의점</td>\n",
       "    </tr>\n",
       "    <tr>\n",
       "      <th>2</th>\n",
       "      <td>3</td>\n",
       "      <td>CNTS_200000000007257</td>\n",
       "      <td>c2</td>\n",
       "      <td>풍년상회</td>\n",
       "      <td>1</td>\n",
       "      <td>북부</td>\n",
       "      <td>region1</td>\n",
       "      <td>제주시</td>\n",
       "      <td>15</td>\n",
       "      <td>조천</td>\n",
       "      <td>쇼핑,기념품</td>\n",
       "    </tr>\n",
       "    <tr>\n",
       "      <th>3</th>\n",
       "      <td>4</td>\n",
       "      <td>CNTS_200000000013168</td>\n",
       "      <td>c5</td>\n",
       "      <td>세계자동차&amp;피아노박물관 4th 봄날의 향연 뮤지엄콘서트</td>\n",
       "      <td>4</td>\n",
       "      <td>남부</td>\n",
       "      <td>region2</td>\n",
       "      <td>서귀포시</td>\n",
       "      <td>23</td>\n",
       "      <td>안덕</td>\n",
       "      <td>축제, 문화관광</td>\n",
       "    </tr>\n",
       "    <tr>\n",
       "      <th>4</th>\n",
       "      <td>6</td>\n",
       "      <td>CNTS_200000000014956</td>\n",
       "      <td>c4</td>\n",
       "      <td>R14</td>\n",
       "      <td>3</td>\n",
       "      <td>서부</td>\n",
       "      <td>region1</td>\n",
       "      <td>제주시</td>\n",
       "      <td>13</td>\n",
       "      <td>한림</td>\n",
       "      <td>한림, 월령리, 스콘, 백년초, 아이스크림, 콜드브루, 허브차, 생딸기우유,바닐라빈 라떼</td>\n",
       "    </tr>\n",
       "  </tbody>\n",
       "</table>\n",
       "</div>"
      ],
      "text/plain": [
       "   placeid            contentsid contentscd                           title  \\\n",
       "0        1  CNTS_200000000015109         c2                            숲을걷다   \n",
       "1        2  CNTS_000000000021301         c2                            아코하루   \n",
       "2        3  CNTS_200000000007257         c2                            풍년상회   \n",
       "3        4  CNTS_200000000013168         c5  세계자동차&피아노박물관 4th 봄날의 향연 뮤지엄콘서트   \n",
       "4        6  CNTS_200000000014956         c4                             R14   \n",
       "\n",
       "   regioncd_value regioncd_label region1cd_value region1cd_label  \\\n",
       "0               1             북부         region1             제주시   \n",
       "1               1             북부         region1             제주시   \n",
       "2               1             북부         region1             제주시   \n",
       "3               4             남부         region2            서귀포시   \n",
       "4               3             서부         region1             제주시   \n",
       "\n",
       "   region2cd_value region2cd_label  \\\n",
       "0               12              애월   \n",
       "1               11            제주시내   \n",
       "2               15              조천   \n",
       "3               23              안덕   \n",
       "4               13              한림   \n",
       "\n",
       "                                                 tag  \n",
       "0                          애월, 소품샵, 감귤모자, 의류, 엽서, 잡화  \n",
       "1              쇼핑,공방,기념품,공용주차장,현금결제,카드결제,무료 WIFI,편의점  \n",
       "2                                             쇼핑,기념품  \n",
       "3                                           축제, 문화관광  \n",
       "4  한림, 월령리, 스콘, 백년초, 아이스크림, 콜드브루, 허브차, 생딸기우유,바닐라빈 라떼  "
      ]
     },
     "execution_count": 5,
     "metadata": {},
     "output_type": "execute_result"
    }
   ],
   "source": [
    "#여행지 데이터프레임\n",
    "def load_ratings():\n",
    "    col_name = ['placeid','title','tag']\n",
    "    travel_df = pd.read_csv(os.path.join(path,\"ratings.csv\"),sep=',', header=None, engine='python', names=col_name)\n",
    "    travel_df.head()"
   ]
  },
  {
   "cell_type": "code",
   "execution_count": 8,
   "metadata": {},
   "outputs": [
    {
     "data": {
      "text/html": [
       "<div>\n",
       "<style scoped>\n",
       "    .dataframe tbody tr th:only-of-type {\n",
       "        vertical-align: middle;\n",
       "    }\n",
       "\n",
       "    .dataframe tbody tr th {\n",
       "        vertical-align: top;\n",
       "    }\n",
       "\n",
       "    .dataframe thead th {\n",
       "        text-align: right;\n",
       "    }\n",
       "</style>\n",
       "<table border=\"1\" class=\"dataframe\">\n",
       "  <thead>\n",
       "    <tr style=\"text-align: right;\">\n",
       "      <th></th>\n",
       "      <th>age_id</th>\n",
       "      <th>regioncd_value</th>\n",
       "      <th>pla_r_rate</th>\n",
       "      <th>pla_r_date</th>\n",
       "    </tr>\n",
       "  </thead>\n",
       "  <tbody>\n",
       "    <tr>\n",
       "      <th>0</th>\n",
       "      <td>1</td>\n",
       "      <td>남부</td>\n",
       "      <td>5.8</td>\n",
       "      <td>1차년도</td>\n",
       "    </tr>\n",
       "    <tr>\n",
       "      <th>1</th>\n",
       "      <td>1</td>\n",
       "      <td>남부</td>\n",
       "      <td>7.4</td>\n",
       "      <td>2차년도</td>\n",
       "    </tr>\n",
       "    <tr>\n",
       "      <th>2</th>\n",
       "      <td>1</td>\n",
       "      <td>동부</td>\n",
       "      <td>6.6</td>\n",
       "      <td>1차년도</td>\n",
       "    </tr>\n",
       "    <tr>\n",
       "      <th>3</th>\n",
       "      <td>1</td>\n",
       "      <td>동부</td>\n",
       "      <td>8.5</td>\n",
       "      <td>2차년도</td>\n",
       "    </tr>\n",
       "    <tr>\n",
       "      <th>4</th>\n",
       "      <td>1</td>\n",
       "      <td>북부</td>\n",
       "      <td>7.6</td>\n",
       "      <td>1차년도</td>\n",
       "    </tr>\n",
       "  </tbody>\n",
       "</table>\n",
       "</div>"
      ],
      "text/plain": [
       "   age_id regioncd_value  pla_r_rate pla_r_date\n",
       "0       1             남부         5.8       1차년도\n",
       "1       1             남부         7.4       2차년도\n",
       "2       1             동부         6.6       1차년도\n",
       "3       1             동부         8.5       2차년도\n",
       "4       1             북부         7.6       1차년도"
      ]
     },
     "execution_count": 8,
     "metadata": {},
     "output_type": "execute_result"
    }
   ],
   "source": [
    "#유저 평가 데이터프레임\n",
    "rating_df = pd.read_csv(path+'/rating.csv')\n",
    "rating_df.head()"
   ]
  },
  {
   "cell_type": "markdown",
   "metadata": {},
   "source": [
    "임의로 사용자의 나이대에 따라 id 부여함.  \n",
    "[참고 Notion Link 🔗](https://www.notion.so/jxxngxnt/44e0fcdeb8814a0ea9e12de162137637?pvs=4#cafa46a992c94de2a44dd8b375933ac6)"
   ]
  },
  {
   "cell_type": "code",
   "execution_count": 18,
   "metadata": {},
   "outputs": [
    {
     "name": "stdout",
     "output_type": "stream",
     "text": [
      "                                user_id user_name     user_phone  user_birth  \\\n",
      "0  d3ca4a15-2a0c-11ef-9ffb-7085c2d2eea0      test  010-0000-0000  2000-01-01   \n",
      "\n",
      "  user_mbti user_pay user_login_id user_login_pw  age user_age_group  \n",
      "0      ENFP  결제정보 없음          test          test   24      남성 20대 이하  \n"
     ]
    }
   ],
   "source": [
    "#유저 데이터프레임\n",
    "query = '''\n",
    "SELECT \n",
    "    BIN_TO_UUID(user_id) as user_id ,user_name, user_phone,  \n",
    "    user_birth, user_mbti, \n",
    "    user_pay, user_login_id, user_login_pw, \n",
    "    @age := FLOOR(DATEDIFF(NOW(), user_birth) / 365.25) AS age,\n",
    "    CONCAT(\n",
    "        CASE\n",
    "            WHEN user_gender=0 THEN '남성'\n",
    "            WHEN user_gender=1 THEN '여성'\n",
    "            ELSE 'etc.'\n",
    "        END,\n",
    "        ' ',\n",
    "        CASE\n",
    "            WHEN @age <=29 THEN '20대 이하'\n",
    "            WHEN @age BETWEEN 30 AND 39 THEN '30대'\n",
    "            WHEN @age BETWEEN 40 AND 49 THEN '40대'\n",
    "            WHEN @age BETWEEN 50 AND 59 THEN '50대'\n",
    "            WHEN @age >=60 THEN '60대 이상'\n",
    "            ELSE 'etc.'\n",
    "        END\n",
    "    ) AS user_age_group\n",
    "FROM user'''  # 실행할 SQL 쿼리\n",
    "users = pd.read_sql(query, engine)\n",
    "print(users.head())"
   ]
  }
 ],
 "metadata": {
  "kernelspec": {
   "display_name": "Python 3",
   "language": "python",
   "name": "python3"
  },
  "language_info": {
   "codemirror_mode": {
    "name": "ipython",
    "version": 3
   },
   "file_extension": ".py",
   "mimetype": "text/x-python",
   "name": "python",
   "nbconvert_exporter": "python",
   "pygments_lexer": "ipython3",
   "version": "3.11.9"
  }
 },
 "nbformat": 4,
 "nbformat_minor": 2
}
